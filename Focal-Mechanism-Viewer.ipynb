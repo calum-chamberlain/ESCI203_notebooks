{
 "cells": [
  {
   "cell_type": "markdown",
   "metadata": {},
   "source": [
    "# Focal Mechanisms\n",
    "\n",
    "Structure:\n",
    "0. [Introduction](#0.0-Intro)\n",
    "1. [Finding the second nodal plane](#1.0-Finding-the-second-nodal-plane)\n",
    "2. [Fitting a focal mechanism to your polarities](#2.0-Fitting-focal-mechanism-to-polarity-data)\n",
    "\n",
    "## 0.0 Intro\n",
    "\n",
    "In the absense of printed stereonets and tracing paper I have tried to implement some interactive ways of getting to grips with focal mechanisms. These plots are made in Python using [matplotlib](https://matplotlib.org/) and [mplstereonet](https://github.com/joferkington/mplstereonet).  The two exercises here will get you to:\n",
    "1. Play around with finding the auxillary plane to a nodal plane to get to grips with drawing orthogonal planes constrained such that the slip-vector of one-plane is the normal to the other.\n",
    "2. Try to fit nodal planes to a set of first-motion data that you will collect by picking polarities on waveforms from plots in your worksheet.\n",
    "\n",
    "If you haven't seen one of these before, this is a [jupyter notebook](https://jupyter.org/) - they provide a nice way of writing code and text together in one place. They can also render interactive figures in the browser, which is really handy for this!  You will probably be interacting with this notebook through the *binder* for this course, which runs all the code on a server somewhere without you having to install any software.\n",
    "\n",
    "## 0.1 How to use this notebook\n",
    "\n",
    "You should see a few boxes outlining some code below, something like the box below here:"
   ]
  },
  {
   "cell_type": "code",
   "execution_count": null,
   "metadata": {},
   "outputs": [],
   "source": [
    "print(\"Hello ESCI203 class\")"
   ]
  },
  {
   "cell_type": "markdown",
   "metadata": {},
   "source": [
    "The code above is a simple bit of Python that prints the words \"Hello ESCI203 class\" to your screen. You can run this code by pressing the *Run* button at the top of the notebook. Pressing *Run* will run the code in the *cell* you have highlighted. While that *cell* runs you will see a \\* to the left of the *cell*. Once it has completed this will turn into a number.  **Try running the cell above**\n",
    "\n",
    "For this notebook you will have to change some variables to set the first nodal plane, then you will play with sliders to find the second nodal plane. Every time you change variables in a cell *you must re-run the cell to get an updated output*.\n",
    "\n",
    "First we need to do a bit of set-up. Run the cell below, but do not change the contents of it."
   ]
  },
  {
   "cell_type": "code",
   "execution_count": 1,
   "metadata": {},
   "outputs": [],
   "source": [
    "# Any text following a hash is a comment and not run.\n",
    "# This line sets how we will render plots\n",
    "%matplotlib widget\n",
    "import matplotlib.pyplot as plt\n",
    "from helpers.focal_mechansims import (\n",
    "    FocalMechanism, NodalPlane, Polarity)  # This line loads the necessary libraries."
   ]
  },
  {
   "cell_type": "markdown",
   "metadata": {},
   "source": [
    "---\n",
    "\n",
    "## 1.0 Finding the second nodal plane\n",
    "\n",
    "In this section you will take the measurements given in the lab hand-out and set the *strike*, *dip* and *rake* of the first nodal plane, then move the sliders to fit the second nodal plane.\n",
    "\n",
    "To do this you will need to:\n",
    "1. Set the `strike`, `dip` and `rake` in the line indicated in the cell below;\n",
    "2. Run the cell;\n",
    "3. Move the *strike*, *dip* and *rake* sliders in the plot until the second nodal plane is orthogonal to the first nodal plane, and the slip-vector of plane one aligns with the pole to plane 2.\n",
    "\n",
    "### Hints:\n",
    "- Remember to record your the strike, dip and rake of your second nodal plane - when you re-run the cell it will reset\n",
    "- The sign of the rake (positive or negative) is the same for both nodal planes.\n",
    "- I find it easier to get somewhere near in strike, then adjust the dip and strike together so that the second nodal plane intersect the pole to the first nodal plane, then adjust the rake last.\n",
    "- You can resize the figure by clicking and dragging the triangle in the bottom left of the plot.\n",
    "\n",
    "Once you are done with one, change the `strike`, `dip` and `rake` and re-run the cell!"
   ]
  },
  {
   "cell_type": "code",
   "execution_count": 4,
   "metadata": {},
   "outputs": [
    {
     "data": {
      "application/vnd.jupyter.widget-view+json": {
       "model_id": "b27ff84d603d49109b9184641280ab5c",
       "version_major": 2,
       "version_minor": 0
      },
      "text/plain": [
       "Canvas(toolbar=Toolbar(toolitems=[('Home', 'Reset original view', 'home', 'home'), ('Back', 'Back to previous …"
      ]
     },
     "metadata": {},
     "output_type": "display_data"
    }
   ],
   "source": [
    "# Set the strike, dip and rake values below.  Leave the commas and brackets as they are.\n",
    "first_nodal_plane = NodalPlane(\n",
    "    strike=40, \n",
    "    dip=80, \n",
    "    rake=20\n",
    ")\n",
    "\n",
    "fig = FocalMechanism(nodal_plane_1=first_nodal_plane).tweak_np2(show=False)\n",
    "fig.show()"
   ]
  },
  {
   "cell_type": "markdown",
   "metadata": {},
   "source": [
    "---\n",
    "\n",
    "## 2.0 Fitting focal mechanism to polarity data\n",
    "\n",
    "First you will need to pick polarities for stations using the plots in your worksheet. The cell below makes an editable table in the notebook. Run the cell below then enter your polarities in the table as **U** for upward first motion and **D** for downward first motion:"
   ]
  },
  {
   "cell_type": "code",
   "execution_count": 5,
   "metadata": {
    "code_folding": [
     3,
     6
    ],
    "scrolled": true
   },
   "outputs": [
    {
     "data": {
      "application/vnd.jupyter.widget-view+json": {
       "model_id": "6774e7008a9a4a459d7b1390cd702544",
       "version_major": 2,
       "version_minor": 0
      },
      "text/plain": [
       "Sheet(cells=(Cell(column_end=3, column_start=0, row_end=0, row_start=0, squeeze_column=False, style={'backgrou…"
      ]
     },
     "metadata": {},
     "output_type": "display_data"
    }
   ],
   "source": [
    "import ipysheet\n",
    "\n",
    "datatable = ipysheet.sheet(rows=24, columns=4)\n",
    "header = ipysheet.row(\n",
    "    0, [\"Station\", \"Azimuth\", \"Take-off angle\", \"Polarity (U/D)\"],\n",
    "    background_color=\"lightgrey\")\n",
    "cells = ipysheet.cell_range(\n",
    "    [[\"ANTO\", 312, 27, \"U\"], \n",
    "     [\"BFO\", 318, 21, None],\n",
    "     [\"CASY\", 174, 27, None],\n",
    "     [\"CHTO\", 11, 70, None],\n",
    "     [\"COCO\", 176, 71, \"D\"],\n",
    "     [\"DAV\", 82, 40, None],\n",
    "     [\"DGAR\", 245, 41, None],\n",
    "     [\"FURI\", 278, 31, None],\n",
    "     [\"GNI\", 316, 30, None],\n",
    "     [\"GUMO\", 75, 34, None],\n",
    "     [\"KMBO\", 267, 30, None],\n",
    "     [\"KMI\", 16, 50, None],\n",
    "     [\"LSA\", 351, 41, None],\n",
    "     [\"MBWA\", 137, 39, None],\n",
    "     [\"NWAO\", 152, 51, None],\n",
    "     [\"PALK\", 285, 71, None],\n",
    "     [\"PMG\", 104, 33, None],\n",
    "     [\"QIZ\", 40, 52, None],\n",
    "     [\"RAYN\", 297, 33, None],\n",
    "     [\"SNZO\", 132, 22, None],\n",
    "     [\"ULN\", 10, 35, None],\n",
    "     [\"WRAB\", 123, 36, None],\n",
    "     [\"YSS\", 36, 30, None]\n",
    "    ], row_start=1)\n",
    "datatable"
   ]
  },
  {
   "cell_type": "markdown",
   "metadata": {},
   "source": [
    "Once you have finished entering polarities into the table run the cell below to plot an interactive focal mechanism.  Fit the two nodal-planes to your polarities.  Make sure that your planes are orthogonal and that the rakes make sense.\n",
    "\n",
    "*Note:* If you find that you want to correct your polarities, just edit the table above and re-run the cell below.  Remember that this will reset your nodal planes, so be sure to write the strike, dip and rake of these planes down before you re-run the cell below."
   ]
  },
  {
   "cell_type": "code",
   "execution_count": 6,
   "metadata": {},
   "outputs": [
    {
     "data": {
      "application/vnd.jupyter.widget-view+json": {
       "model_id": "11a32ee8e9574f31ad88bcb2954ee582",
       "version_major": 2,
       "version_minor": 0
      },
      "text/plain": [
       "Canvas(toolbar=Toolbar(toolitems=[('Home', 'Reset original view', 'home', 'home'), ('Back', 'Back to previous …"
      ]
     },
     "metadata": {},
     "output_type": "display_data"
    }
   ],
   "source": [
    "# Convert from table to polarities\n",
    "polarities = [Polarity(azimuth=v[1], toa=v[2], polarity=v[3]) for v in cells.value]\n",
    "fig = FocalMechanism(polarities=polarities).find_planes()\n",
    "fig.show()"
   ]
  }
 ],
 "metadata": {
  "kernelspec": {
   "display_name": "Python 3",
   "language": "python",
   "name": "python3"
  },
  "language_info": {
   "codemirror_mode": {
    "name": "ipython",
    "version": 3
   },
   "file_extension": ".py",
   "mimetype": "text/x-python",
   "name": "python",
   "nbconvert_exporter": "python",
   "pygments_lexer": "ipython3",
   "version": "3.7.6"
  }
 },
 "nbformat": 4,
 "nbformat_minor": 4
}
